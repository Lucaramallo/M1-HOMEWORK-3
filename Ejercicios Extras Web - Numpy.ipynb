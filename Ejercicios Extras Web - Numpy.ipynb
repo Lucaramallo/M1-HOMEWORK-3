{
 "cells": [
  {
   "cell_type": "markdown",
   "metadata": {},
   "source": [
    "##101 NumPy Exercises for Data Analysis (Python)"
   ]
  },
  {
   "attachments": {},
   "cell_type": "markdown",
   "metadata": {},
   "source": [
    "1. Import numpy as np and see the version\n",
    "Difficulty Level: L1\n",
    "\n",
    "Q. Import numpy as np and print the version number."
   ]
  },
  {
   "cell_type": "code",
   "execution_count": 2,
   "metadata": {},
   "outputs": [
    {
     "name": "stdout",
     "output_type": "stream",
     "text": [
      "1.24.1\n"
     ]
    }
   ],
   "source": [
    "import numpy as np\n",
    "print(np.__version__)"
   ]
  },
  {
   "attachments": {},
   "cell_type": "markdown",
   "metadata": {},
   "source": [
    "2. How to create a 1D array?\n",
    "Difficulty Level: L1\n",
    "\n",
    "Q. Create a 1D array of numbers from 0 to 9\n",
    "\n",
    "Desired output:"
   ]
  },
  {
   "cell_type": "code",
   "execution_count": 55,
   "metadata": {},
   "outputs": [
    {
     "data": {
      "text/plain": [
       "array([ 0. ,  0.5,  1. ,  1.5,  2. ,  2.5,  3. ,  3.5,  4. ,  4.5,  5. ,\n",
       "        5.5,  6. ,  6.5,  7. ,  7.5,  8. ,  8.5,  9. ,  9.5, 10. , 10.5,\n",
       "       11. , 11.5, 12. , 12.5, 13. , 13.5, 14. , 14.5, 15. , 15.5, 16. ,\n",
       "       16.5, 17. , 17.5, 18. , 18.5, 19. , 19.5, 20. , 20.5, 21. , 21.5,\n",
       "       22. , 22.5, 23. , 23.5, 24. , 24.5, 25. , 25.5, 26. , 26.5, 27. ,\n",
       "       27.5, 28. , 28.5, 29. , 29.5, 30. , 30.5, 31. , 31.5, 32. , 32.5,\n",
       "       33. , 33.5, 34. , 34.5, 35. , 35.5, 36. , 36.5, 37. , 37.5, 38. ,\n",
       "       38.5, 39. , 39.5, 40. , 40.5, 41. , 41.5, 42. , 42.5, 43. , 43.5,\n",
       "       44. , 44.5, 45. , 45.5, 46. , 46.5, 47. , 47.5, 48. , 48.5, 49. ,\n",
       "       49.5, 50. , 50.5, 51. , 51.5, 52. , 52.5, 53. , 53.5, 54. , 54.5,\n",
       "       55. , 55.5, 56. , 56.5, 57. , 57.5, 58. , 58.5, 59. , 59.5, 60. ,\n",
       "       60.5, 61. , 61.5, 62. , 62.5, 63. , 63.5, 64. , 64.5, 65. , 65.5,\n",
       "       66. , 66.5, 67. , 67.5, 68. , 68.5, 69. , 69.5, 70. , 70.5, 71. ,\n",
       "       71.5, 72. , 72.5, 73. , 73.5, 74. , 74.5, 75. , 75.5, 76. , 76.5,\n",
       "       77. , 77.5, 78. , 78.5, 79. , 79.5, 80. , 80.5, 81. , 81.5, 82. ,\n",
       "       82.5, 83. , 83.5, 84. , 84.5, 85. , 85.5, 86. , 86.5, 87. , 87.5,\n",
       "       88. , 88.5, 89. , 89.5, 90. , 90.5, 91. , 91.5, 92. , 92.5, 93. ,\n",
       "       93.5, 94. , 94.5, 95. , 95.5, 96. , 96.5, 97. , 97.5, 98. , 98.5,\n",
       "       99. , 99.5])"
      ]
     },
     "execution_count": 55,
     "metadata": {},
     "output_type": "execute_result"
    }
   ],
   "source": [
    "firstArray = np.arange(0,100,0.5)\n",
    "firstArray\n"
   ]
  },
  {
   "cell_type": "code",
   "execution_count": 57,
   "metadata": {},
   "outputs": [
    {
     "name": "stdout",
     "output_type": "stream",
     "text": [
      "[ True False False False False False False False False False  True False\n",
      " False False False False False False False False  True False False False\n",
      " False False False False False False  True False False False False False\n",
      " False False False False  True False False False False False False False\n",
      " False False  True False False False False False False False False False\n",
      "  True False False False False False False False False False  True False\n",
      " False False False False False False False False  True False False False\n",
      " False False False False False False  True False False False False False\n",
      " False False False False  True False False False False False False False\n",
      " False False  True False False False False False False False False False\n",
      "  True False False False False False False False False False  True False\n",
      " False False False False False False False False  True False False False\n",
      " False False False False False False  True False False False False False\n",
      " False False False False  True False False False False False False False\n",
      " False False  True False False False False False False False False False\n",
      "  True False False False False False False False False False  True False\n",
      " False False False False False False False False]\n"
     ]
    },
    {
     "data": {
      "text/plain": [
       "[<matplotlib.lines.Line2D at 0x28c5061a650>]"
      ]
     },
     "execution_count": 57,
     "metadata": {},
     "output_type": "execute_result"
    },
    {
     "data": {
      "image/png": "[encoded data removed]",
      "text/plain": [
       "<Figure size 640x480 with 1 Axes>"
      ]
     },
     "metadata": {},
     "output_type": "display_data"
    }
   ],
   "source": [
    "mascara = ((firstArray%5)==0)\n",
    "mascara\n",
    "print(mascara)\n",
    "\n",
    "import matplotlib.pyplot as plt\n",
    "plt.plot(mascara, '*')"
   ]
  },
  {
   "cell_type": "code",
   "execution_count": 49,
   "metadata": {},
   "outputs": [
    {
     "data": {
      "text/plain": [
       "array([ 0.,  5., 10., 15., 20., 25., 30., 35., 40., 45., 50., 55., 60.,\n",
       "       65., 70., 75., 80., 85., 90., 95.])"
      ]
     },
     "execution_count": 49,
     "metadata": {},
     "output_type": "execute_result"
    }
   ],
   "source": [
    "\n",
    "firstArray[mascara]"
   ]
  },
  {
   "attachments": {},
   "cell_type": "markdown",
   "metadata": {},
   "source": [
    "3. How to create a boolean array?\n",
    "Difficulty Level: L1\n",
    "\n",
    "Q. Create a 3×3 numpy array of all True’s"
   ]
  },
  {
   "cell_type": "code",
   "execution_count": 17,
   "metadata": {},
   "outputs": [
    {
     "data": {
      "text/plain": [
       "array([[ True,  True,  True],\n",
       "       [ True,  True,  True],\n",
       "       [ True,  True,  True]])"
      ]
     },
     "execution_count": 17,
     "metadata": {},
     "output_type": "execute_result"
    }
   ],
   "source": [
    "de3x3 = np.full((3,3),True,dtype=bool)\n",
    "de3x3\n",
    "\n"
   ]
  },
  {
   "attachments": {},
   "cell_type": "markdown",
   "metadata": {},
   "source": [
    "4. How to extract items that satisfy a given condition from 1D array?\n",
    "Difficulty Level: L1\n",
    "\n",
    "Q. Extract all odd numbers from arr\n",
    "\n",
    "Input:\n",
    "\n",
    "arr = np.array([0, 1, 2, 3, 4, 5, 6, 7, 8, 9])\n",
    "Desired output:\n",
    "\n",
    "#> array([1, 3, 5, 7, 9])"
   ]
  },
  {
   "cell_type": "code",
   "execution_count": 42,
   "metadata": {},
   "outputs": [
    {
     "data": {
      "text/plain": [
       "array([0, 1, 2, 3, 4, 5, 6, 7, 8, 9])"
      ]
     },
     "execution_count": 42,
     "metadata": {},
     "output_type": "execute_result"
    }
   ],
   "source": [
    "arr = np.arange(0,10,1,dtype = int)\n",
    "arr"
   ]
  },
  {
   "cell_type": "code",
   "execution_count": 23,
   "metadata": {},
   "outputs": [
    {
     "data": {
      "text/plain": [
       "array([False,  True, False,  True, False,  True, False,  True, False,\n",
       "        True])"
      ]
     },
     "execution_count": 23,
     "metadata": {},
     "output_type": "execute_result"
    }
   ],
   "source": [
    "mask = ((arr%2)!=0) \n",
    "mask\n"
   ]
  },
  {
   "cell_type": "code",
   "execution_count": 43,
   "metadata": {},
   "outputs": [
    {
     "data": {
      "text/plain": [
       "array([1, 3, 5, 7, 9])"
      ]
     },
     "execution_count": 43,
     "metadata": {},
     "output_type": "execute_result"
    }
   ],
   "source": [
    "arr[mask]"
   ]
  },
  {
   "attachments": {},
   "cell_type": "markdown",
   "metadata": {},
   "source": [
    "5. How to replace items that satisfy a condition with another value in numpy array?\n",
    "Difficulty Level: L1\n",
    "\n",
    "Q. Replace all odd numbers in arr with -1\n",
    "\n",
    "Input:\n",
    "\n",
    "arr = np.array([0, 1, 2, 3, 4, 5, 6, 7, 8, 9])\n",
    "Desired Output:\n",
    "\n",
    "#>  array([ 0, -1,  2, -1,  4, -1,  6, -1,  8, -1])"
   ]
  },
  {
   "cell_type": "code",
   "execution_count": 44,
   "metadata": {},
   "outputs": [
    {
     "data": {
      "text/plain": [
       "array([ 0, -1,  2, -1,  4, -1,  6, -1,  8, -1])"
      ]
     },
     "execution_count": 44,
     "metadata": {},
     "output_type": "execute_result"
    }
   ],
   "source": [
    "arr[arr % 2 == 1] = -1 # Reemplaza todos los elementos cuyo resto de dividirlo x 2 sea == 1.\n",
    "arr\n",
    "\n",
    "\n"
   ]
  },
  {
   "cell_type": "code",
   "execution_count": 53,
   "metadata": {},
   "outputs": [
    {
     "name": "stdout",
     "output_type": "stream",
     "text": [
      "[ 0.   0.5 -1.   1.5  2.   2.5 -1.   3.5  4.   4.5 -1.   5.5  6.   6.5\n",
      " -1.   7.5  8.   8.5 -1.   9.5 10.  10.5 -1.  11.5 12.  12.5 -1.  13.5\n",
      " 14.  14.5 -1.  15.5 16.  16.5 -1.  17.5 18.  18.5 -1.  19.5 20.  20.5\n",
      " -1.  21.5 22.  22.5 -1.  23.5 24.  24.5 -1.  25.5 26.  26.5 -1.  27.5\n",
      " 28.  28.5 -1.  29.5 30.  30.5 -1.  31.5 32.  32.5 -1.  33.5 34.  34.5\n",
      " -1.  35.5 36.  36.5 -1.  37.5 38.  38.5 -1.  39.5 40.  40.5 -1.  41.5\n",
      " 42.  42.5 -1.  43.5 44.  44.5 -1.  45.5 46.  46.5 -1.  47.5 48.  48.5\n",
      " -1.  49.5 50.  50.5 -1.  51.5 52.  52.5 -1.  53.5 54.  54.5 -1.  55.5\n",
      " 56.  56.5 -1.  57.5 58.  58.5 -1.  59.5 60.  60.5 -1.  61.5 62.  62.5\n",
      " -1.  63.5 64.  64.5 -1.  65.5 66.  66.5 -1.  67.5 68.  68.5 -1.  69.5\n",
      " 70.  70.5 -1.  71.5 72.  72.5 -1.  73.5 74.  74.5 -1.  75.5 76.  76.5\n",
      " -1.  77.5 78.  78.5 -1.  79.5 80.  80.5 -1.  81.5 82.  82.5 -1.  83.5\n",
      " 84.  84.5 -1.  85.5 86.  86.5 -1.  87.5 88.  88.5 -1.  89.5 90.  90.5\n",
      " -1.  91.5 92.  92.5 -1.  93.5 94.  94.5 -1.  95.5 96.  96.5 -1.  97.5\n",
      " 98.  98.5 -1.  99.5]\n"
     ]
    },
    {
     "data": {
      "text/plain": [
       "[<matplotlib.lines.Line2D at 0x28c4fffded0>]"
      ]
     },
     "execution_count": 53,
     "metadata": {},
     "output_type": "execute_result"
    },
    {
     "data": {
      "image/png": "[encoded data removed]",
      "text/plain": [
       "<Figure size 640x480 with 1 Axes>"
      ]
     },
     "metadata": {},
     "output_type": "display_data"
    }
   ],
   "source": [
    "firstArray[firstArray % 2 == 1] = -1\n",
    "firstArray\n",
    "print(firstArray)\n",
    "import matplotlib.pyplot as plt\n",
    "plt.plot(firstArray, '*')"
   ]
  }
 ],
 "metadata": {
  "kernelspec": {
   "display_name": "Python 3",
   "language": "python",
   "name": "python3"
  },
  "language_info": {
   "codemirror_mode": {
    "name": "ipython",
    "version": 3
   },
   "file_extension": ".py",
   "mimetype": "text/x-python",
   "name": "python",
   "nbconvert_exporter": "python",
   "pygments_lexer": "ipython3",
   "version": "3.10.9"
  },
  "orig_nbformat": 4,
  "vscode": {
   "interpreter": {
    "hash": "957a0973b20c9ca410cb31745b8585db68510eafaadcea06bf68cd1027372551"
   }
  }
 },
 "nbformat": 4,
 "nbformat_minor": 2
}
